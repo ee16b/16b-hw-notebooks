{
 "cells": [
  {
   "cell_type": "markdown",
   "metadata": {},
   "source": [
    "# System Identification using Least Squares"
   ]
  },
  {
   "cell_type": "code",
   "execution_count": null,
   "metadata": {},
   "outputs": [],
   "source": [
    "import numpy as np\n",
    "import matplotlib.pyplot as plt\n",
    "import pandas as pd"
   ]
  },
  {
   "cell_type": "markdown",
   "metadata": {},
   "source": [
    "## Part (a)\n",
    "\n",
    "\n",
    "<img style=\"float:left\" src=\"images/resistor.png\" width=\"225\"/>"
   ]
  },
  {
   "cell_type": "code",
   "execution_count": null,
   "metadata": {},
   "outputs": [],
   "source": [
    "data = pd.read_csv('data/iv_part_a.csv')\n",
    "display(data.head())\n",
    "i, v = data['Current'].array, data['Voltage'].array"
   ]
  },
  {
   "cell_type": "markdown",
   "metadata": {},
   "source": [
    "Set up and solve a Least-Squares problem to solve for the resistance $R$ for inputs $V$ and outputs $I$"
   ]
  },
  {
   "cell_type": "code",
   "execution_count": null,
   "metadata": {},
   "outputs": [],
   "source": [
    "# Your Code Here #\n",
    "X =\n",
    "y = \n",
    "################ "
   ]
  },
  {
   "cell_type": "markdown",
   "metadata": {},
   "source": [
    "## Part (b)\n",
    "\n",
    "\n",
    "<img style=\"float:left\" src=\"images/diode.png\" width=\"250\"/>"
   ]
  },
  {
   "cell_type": "code",
   "execution_count": null,
   "metadata": {},
   "outputs": [],
   "source": [
    "data = pd.read_csv('data/iv_part_b.csv')\n",
    "display(data.head())\n",
    "Id, Vd = data['Id'].array, data['Vd'].array"
   ]
  },
  {
   "cell_type": "code",
   "execution_count": null,
   "metadata": {},
   "outputs": [],
   "source": [
    "# Your Code Here #\n",
    "X = \n",
    "y = \n",
    "################"
   ]
  },
  {
   "cell_type": "markdown",
   "metadata": {},
   "source": [
    "## Part (c)\n",
    "\n",
    "The states $d_{L}$ and $d_{R}$ represent the position of the wheels of your SIXT33N Car. The discrete model is\n",
    "\n",
    "$$ \\begin{equation}\n",
    "    \\begin{bmatrix} d_{L}(t+1) \\\\ d_{R}(t+1) \\end{bmatrix} = A \\begin{bmatrix} d_{L}(t) \\\\ d_{R}(t) \\end{bmatrix} + B \\begin{bmatrix} u_{L}(t) \\\\ u_{R}(t) \\end{bmatrix}\n",
    "  \\end{equation} $$\n",
    "\n",
    "\n",
    "The position and input data for $t = 0, \\ldots, 100$ are stored in car_data.csv. \n",
    "\n",
    "Use this data to set up a Least-Squares problem to solve for the $A$ and $B$ matrices. Make sure you understand why $u_{L}(100)$ and $u_{R}(100)$ are undefined."
   ]
  },
  {
   "cell_type": "code",
   "execution_count": null,
   "metadata": {},
   "outputs": [],
   "source": [
    "data = pd.read_csv('data/car_data.csv')\n",
    "display(data.head(5))\n",
    "display(data.tail(5))"
   ]
  },
  {
   "cell_type": "code",
   "execution_count": null,
   "metadata": {},
   "outputs": [],
   "source": [
    "dists = np.array(data[['dL', 'dR']])\n",
    "inputs = np.array(data[['uL', 'uR']])\n",
    "\n",
    "# Your Code Here #\n",
    "X = \n",
    "y = \n",
    "u = \n",
    "D = \n",
    "################\n",
    "\n",
    "w = np.linalg.lstsq(D, y, rcond=None)[0]"
   ]
  },
  {
   "cell_type": "markdown",
   "metadata": {},
   "source": [
    "## Part (d)\n",
    "\n",
    "Try plotting the values of $d_{L}$ and $d_{R}.$ You may find the function `plt.scatter` to be helpful.\n",
    "\n",
    "What do you notice when plotting? \n",
    "Is there a way for Taejin and Nick to recover the true values of $A$ and $B?$"
   ]
  },
  {
   "cell_type": "code",
   "execution_count": null,
   "metadata": {},
   "outputs": [],
   "source": [
    "# Your Code Here #\n",
    "\n",
    "\n"
   ]
  },
  {
   "cell_type": "markdown",
   "metadata": {},
   "source": [
    "## Final Remarks\n",
    "\n",
    "Given the matrix-vector equation $X \\vec{w} = \\vec{y},$ the Least-Squares solution tries to find the \"best\" $\\vec{w}$ \n",
    "that minimizes\n",
    "\n",
    "$$\\vec{w} = \\mbox{argmin}_{\\vec{w}} ||{X \\vec{w} - \\vec{y}}||^{2}$$\n",
    "\n",
    "However, we've seen in this question that the squared-norm, referred to as the 'Mean Squared Error' is susceptible to outliers. If you take classes like Data 100, EE 127, or CS 189, you'll learn about techniques to detect and remove outliers along with other regression techniques that are robust to outliers."
   ]
  }
 ],
 "metadata": {
  "kernelspec": {
   "display_name": "Python 3",
   "language": "python",
   "name": "python3"
  },
  "language_info": {
   "codemirror_mode": {
    "name": "ipython",
    "version": 3
   },
   "file_extension": ".py",
   "mimetype": "text/x-python",
   "name": "python",
   "nbconvert_exporter": "python",
   "pygments_lexer": "ipython3",
   "version": "3.6.5"
  }
 },
 "nbformat": 4,
 "nbformat_minor": 4
}
