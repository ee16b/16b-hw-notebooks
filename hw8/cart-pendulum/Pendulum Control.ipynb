{
 "cells": [
  {
   "cell_type": "markdown",
   "metadata": {},
   "source": [
    "# Controlling a Cart-Pendulum System"
   ]
  },
  {
   "cell_type": "code",
   "execution_count": null,
   "metadata": {},
   "outputs": [],
   "source": [
    "from scipy.integrate import solve_ivp\n",
    "from scipy.signal import place_poles\n",
    "\n",
    "import numpy as np\n",
    "import matplotlib.pyplot as plt\n",
    "import scipy.integrate as integrate\n",
    "\n",
    "from cart_pendulum import CartPend"
   ]
  },
  {
   "cell_type": "markdown",
   "metadata": {},
   "source": [
    "## Setup (DO NOT CHANGE THESE PARAMETERS)\n",
    "\n",
    "The cell below sets up the parameters for the mass, length, and damping ratio."
   ]
  },
  {
   "cell_type": "code",
   "execution_count": null,
   "metadata": {},
   "outputs": [],
   "source": [
    "m = 1\n",
    "M = 5\n",
    "L = 2\n",
    "g = 10\n",
    "b = 1\n",
    "\n",
    "A = np.array(\n",
    "  [[0, 1, 0, 0],\n",
    "   [0, -b/M, -m*g/M, 0],\n",
    "   [0, 0, 0, 1],\n",
    "   [0, b/(M*L), (m+M)*g/(M*L), 0]])\n",
    "\n",
    "B = np.reshape([0, 1/M, 0, 1/(M*L)], (4, 1))\n",
    "\n",
    "cart_pend = CartPend(m, M, L, g, b)"
   ]
  },
  {
   "cell_type": "markdown",
   "metadata": {},
   "source": [
    "## Part (c)\n",
    "\n",
    "Show that the linearized pendulum-cart system is controllable but unstable. You can either work it out by hand or fill in the cells below. \n",
    "\n",
    "The functions `np.column_stack` and `np.linalg.eig` may be helpful."
   ]
  },
  {
   "cell_type": "code",
   "execution_count": null,
   "metadata": {},
   "outputs": [],
   "source": [
    "##### Workspace #####\n",
    "C = \n",
    "print('The rank of the controllabilty matrix is {}.'.format(np.linalg.matrix_rank(C)))\n",
    "\n",
    "eigs = \n",
    "print('The eigenvalues of the state matrix are {}.'.format(eigs))"
   ]
  },
  {
   "cell_type": "markdown",
   "metadata": {},
   "source": [
    "Let's see what happens if we push the pendulum very slightly by giving input $u = 0.01$"
   ]
  },
  {
   "cell_type": "code",
   "execution_count": null,
   "metadata": {},
   "outputs": [],
   "source": [
    "def exponential_decay(t,x):\n",
    "  u = [0.01]\n",
    "  return A.dot(x) + B.dot(u)\n",
    "\n",
    "sol = solve_ivp(exponential_decay, (0, 10), (0, 0, 0, 0), t_eval=np.linspace(0,10,300))\n",
    "CartPend.plot_response(sol)"
   ]
  },
  {
   "cell_type": "markdown",
   "metadata": {},
   "source": [
    "<b>In your written submission, explain what happens when the cart-pendulum when a small force input is applied.</b>"
   ]
  },
  {
   "cell_type": "markdown",
   "metadata": {},
   "source": [
    "## Part (d)\n",
    "\n",
    "Since the system is controllable, we can use state-feedback to place the eigenvalues anywhere in the complex plane. \n",
    "\n",
    "<b> Find the values of K by hand or by filling in the cells below to make the eigenvalues of the closed-loop matrix equal to [-2, -1.4, -1.2, -1.3] </b>  \n",
    "\n",
    "When implementing this in practice, we can use the `place_poles` function from the scipy.signal library: https://docs.scipy.org/doc/scipy/reference/generated/scipy.signal.place_poles.html"
   ]
  },
  {
   "cell_type": "code",
   "execution_count": null,
   "metadata": {},
   "outputs": [],
   "source": [
    "## YOUR CODE HERE ##\n",
    "\n",
    "eigs = \n",
    "K = "
   ]
  },
  {
   "cell_type": "markdown",
   "metadata": {},
   "source": [
    "Now that we have picked the eigenvalues of our system, let's see how the linearized system behaves for $t \\in [0, 10].$"
   ]
  },
  {
   "cell_type": "code",
   "execution_count": null,
   "metadata": {},
   "outputs": [],
   "source": [
    "def linearized_response(t,x):\n",
    "  u = -K.dot(x)\n",
    "  return A.dot(x) + B.dot(u)\n",
    "\n",
    "sol = solve_ivp(linearized_response, (0, 10), (0, 0, 0.1, 0), t_eval=np.linspace(0,10,300))\n",
    "CartPend.plot_response(sol)"
   ]
  },
  {
   "cell_type": "markdown",
   "metadata": {},
   "source": [
    "As a sanity check, let's make sure the nonlinear system behaves in a similar fashion."
   ]
  },
  {
   "cell_type": "code",
   "execution_count": null,
   "metadata": {},
   "outputs": [],
   "source": [
    "def nonlinear_response(t, x):\n",
    "  u = -K.dot(x)\n",
    "  sin = np.sin(x[2])\n",
    "  cos = np.cos(x[2])\n",
    "  D = m*L*L*(M+m*sin**2)\n",
    "\n",
    "  f1 = x[1]\n",
    "  f2 = (1/D)*(-m**2*L**2*g*sin*cos + m*L*L*(m*L*x[3]**2*sin - b*x[1])) + m*L*L*(1/D)*u\n",
    "  f3 = x[3]\n",
    "  f4 = (1/D)*((m+M)*m*g*L*sin - m*L*cos*(m*L*x[3]**2*sin - b*x[1])) + m*L*cos*(1/D)*u + 0.05*np.random.normal(0,1)\n",
    "  return f1,f2,f3,f4\n",
    "\n",
    "sol = solve_ivp(nonlinear_response, (0, 10), (0, 0, 0 + 0.1, 0), t_eval=np.linspace(0,10,200))\n",
    "CartPend.plot_response(sol)"
   ]
  },
  {
   "cell_type": "markdown",
   "metadata": {},
   "source": [
    "## Part (f) ##\n",
    "\n",
    "### Applying a reference input $\\vec{r}$\n",
    "\n",
    "In part (e) we showed that if our target $\\vec{r} \\in \\mbox{Nul}(A)$ then the error $\\vec{e}(t)$ converges to $\\vec{0}$ meaning the state $\\vec{x}$ will reach the target $\\vec{r}.$\n",
    "\n",
    "Now let's try to move our cart-pendulum system from $\\vec{0}$ to the state $\\vec{r} = \\begin{bmatrix} 1 \\\\ 0 \\\\ 0 \\\\ 0 \\end{bmatrix}.$ \n",
    "\n",
    "Since $\\vec{r} \\in \\mbox{Nul}(A)$ we can apply an input $u = -K (\\vec{x} - \\vec{r})$ to drive the steady-state error to zero."
   ]
  },
  {
   "cell_type": "code",
   "execution_count": null,
   "metadata": {},
   "outputs": [],
   "source": [
    "r = np.array([1, 0, 0, 0])"
   ]
  },
  {
   "cell_type": "markdown",
   "metadata": {},
   "source": [
    "The plots of the linearized response are shown below."
   ]
  },
  {
   "cell_type": "code",
   "execution_count": null,
   "metadata": {},
   "outputs": [],
   "source": [
    "n = 200\n",
    "start, end = 0, 10\n",
    "x0 = np.zeros(4)\n",
    "\n",
    "sol = cart_pend.response(x0, start, end, n, K=K, r=r, linear=True)\n",
    "CartPend.plot_response(sol)"
   ]
  },
  {
   "cell_type": "markdown",
   "metadata": {},
   "source": [
    "### Eigenvalue Placement ###\n",
    "\n",
    "Since the linearized system is a good approximation of the nonlinear cart-pendulum system, we can take the following steps.\n",
    "1. Pick our favorite choice of eigenvalues $\\lambda_{1}$ to $\\lambda_{4},$ for the linearized system.\n",
    "2. Find the appropriate $K$ values to place the eigenvalues of the closed-loop matrix $A_{cl} = (A - BK)$ at $\\lambda_{i}.$\n",
    "3. Apply the input $u = K(\\vec{r} - \\vec{x})$ to the original nonlinear system. \n",
    "\n",
    "Try tweaking the eigenvalues of the system and running the simulation to see how the cart-pendulum system behaves. \n",
    "Note that the eigenvalues need to be distinct for `place_poles` to solve for $K.$\n",
    "\n",
    "You may also need to install ffmpeg to play the simulation video\n",
    "\n",
    "<font color='red'><b>Warning: If the values of $K$ become too large the differential equation solver will break.<b></font>"
   ]
  },
  {
   "cell_type": "code",
   "execution_count": null,
   "metadata": {},
   "outputs": [],
   "source": [
    "from IPython.display import HTML\n",
    "\n",
    "# Values are filled in as a reference. Try to keep your eigenvalues distinct.\n",
    "eigs = [-4, -3, -1+4j, -1-4j] ## CHANGE THESE VALUES\n",
    "\n",
    "K = place_poles(A, B, eigs).gain_matrix\n",
    "print('Feedback gain matrix K = {}'.format(K))\n",
    "\n",
    "# Code to generate response plots. Feel free to change start, end, and n.\n",
    "start, end, n = 0, 10, 200\n",
    "sol = cart_pend.response(x0, start, end, n, K=K, r=r, linear=False)\n",
    "CartPend.plot_response(sol)"
   ]
  },
  {
   "cell_type": "code",
   "execution_count": null,
   "metadata": {},
   "outputs": [],
   "source": [
    "# You can change the length of the simulation and ylim sets the x-axis of the plot.\n",
    "anim = cart_pend.simulate(K, r, start=0.0, end=8.0, ylim=(-1, 2) ,n=n); \n",
    "\n",
    "# May require installing ffmpeg \n",
    "HTML(anim.to_html5_video())"
   ]
  },
  {
   "cell_type": "markdown",
   "metadata": {},
   "source": [
    "<b> In your written submission, explain the effect that the eigenvalues have on the system. </b> What was your favorite pair of eigenvalues?"
   ]
  },
  {
   "cell_type": "markdown",
   "metadata": {},
   "source": [
    "## Final Remarks ###\n",
    "\n",
    "Congratulations on reaching the end of this homework problem. Hopefully you were able to see the end-to-end process of analyzing and controlling a system by taking the following steps:\n",
    "1. Linearizing the nonlinear system around an equilibrium point.\n",
    "2. Determining whether the system was controllable.\n",
    "3. Realizing the system was unstable.\n",
    "4. Using feedback control to stabilize the system and move it to a desired target.\n",
    "\n",
    "Since we simulated the cart-pendulum system, there were still some nonidealities such as noise and saturation that we didn't take into account. When implementing this system in the real world, we won't always get the freedom of picking arbitrarily large K values. \n",
    "\n",
    "If you take EE128, you will get to implement the cart-pendulum system in the lab! On the other hand, if you take EE127, you can learn about ways to pick K values that have the least \"cost\" by using a technique called the Linear Quadratic Regulator or LQR."
   ]
  }
 ],
 "metadata": {
  "kernelspec": {
   "display_name": "Python 3",
   "language": "python",
   "name": "python3"
  },
  "language_info": {
   "codemirror_mode": {
    "name": "ipython",
    "version": 3
   },
   "file_extension": ".py",
   "mimetype": "text/x-python",
   "name": "python",
   "nbconvert_exporter": "python",
   "pygments_lexer": "ipython3",
   "version": "3.6.5"
  }
 },
 "nbformat": 4,
 "nbformat_minor": 4
}
