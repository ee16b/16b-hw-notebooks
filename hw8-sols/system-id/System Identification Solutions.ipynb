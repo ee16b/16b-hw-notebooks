{
 "cells": [
  {
   "cell_type": "markdown",
   "metadata": {},
   "source": [
    "# System Identification using Least Squares"
   ]
  },
  {
   "cell_type": "code",
   "execution_count": 1,
   "metadata": {},
   "outputs": [],
   "source": [
    "import numpy as np\n",
    "import matplotlib.pyplot as plt\n",
    "import pandas as pd"
   ]
  },
  {
   "cell_type": "markdown",
   "metadata": {},
   "source": [
    "## Part (a)\n",
    "\n",
    "\n",
    "<img style=\"float:left\" src=\"images/resistor.png\" width=\"225\"/>"
   ]
  },
  {
   "cell_type": "code",
   "execution_count": 2,
   "metadata": {},
   "outputs": [
    {
     "data": {
      "text/html": [
       "<div>\n",
       "<style scoped>\n",
       "    .dataframe tbody tr th:only-of-type {\n",
       "        vertical-align: middle;\n",
       "    }\n",
       "\n",
       "    .dataframe tbody tr th {\n",
       "        vertical-align: top;\n",
       "    }\n",
       "\n",
       "    .dataframe thead th {\n",
       "        text-align: right;\n",
       "    }\n",
       "</style>\n",
       "<table border=\"1\" class=\"dataframe\">\n",
       "  <thead>\n",
       "    <tr style=\"text-align: right;\">\n",
       "      <th></th>\n",
       "      <th>Voltage</th>\n",
       "      <th>Current</th>\n",
       "    </tr>\n",
       "  </thead>\n",
       "  <tbody>\n",
       "    <tr>\n",
       "      <td>0</td>\n",
       "      <td>0.000000</td>\n",
       "      <td>0.000050</td>\n",
       "    </tr>\n",
       "    <tr>\n",
       "      <td>1</td>\n",
       "      <td>0.012821</td>\n",
       "      <td>0.000062</td>\n",
       "    </tr>\n",
       "    <tr>\n",
       "      <td>2</td>\n",
       "      <td>0.025641</td>\n",
       "      <td>0.000075</td>\n",
       "    </tr>\n",
       "    <tr>\n",
       "      <td>3</td>\n",
       "      <td>0.038462</td>\n",
       "      <td>0.000088</td>\n",
       "    </tr>\n",
       "    <tr>\n",
       "      <td>4</td>\n",
       "      <td>0.051282</td>\n",
       "      <td>0.000101</td>\n",
       "    </tr>\n",
       "  </tbody>\n",
       "</table>\n",
       "</div>"
      ],
      "text/plain": [
       "    Voltage   Current\n",
       "0  0.000000  0.000050\n",
       "1  0.012821  0.000062\n",
       "2  0.025641  0.000075\n",
       "3  0.038462  0.000088\n",
       "4  0.051282  0.000101"
      ]
     },
     "metadata": {},
     "output_type": "display_data"
    }
   ],
   "source": [
    "data = pd.read_csv('data/iv_part_a.csv')\n",
    "display(data.head())\n",
    "i, v = data['Current'].values, data['Voltage'].values"
   ]
  },
  {
   "cell_type": "markdown",
   "metadata": {},
   "source": [
    "Set up and solve a Least-Squares problem to solve for the resistance $R$ for inputs $V$ and outputs $I$"
   ]
  },
  {
   "cell_type": "code",
   "execution_count": 3,
   "metadata": {},
   "outputs": [
    {
     "name": "stdout",
     "output_type": "stream",
     "text": [
      "The resistance R = 871.7\n"
     ]
    }
   ],
   "source": [
    "# Your Code Here #\n",
    "n = len(data)\n",
    "X = np.reshape(v, (n, 1))\n",
    "y = np.reshape(i, (n, 1))\n",
    "################\n",
    "\n",
    "w = np.linalg.lstsq(X, y, rcond=None)[0]\n",
    "\n",
    "print('The resistance R = {:.1f}'.format(1/w[0][0]))"
   ]
  },
  {
   "cell_type": "markdown",
   "metadata": {},
   "source": [
    "## Part (b)\n",
    "\n",
    "\n",
    "<img style=\"float:left\" src=\"images/diode.png\" width=\"250\"/>"
   ]
  },
  {
   "cell_type": "code",
   "execution_count": 4,
   "metadata": {},
   "outputs": [
    {
     "data": {
      "text/html": [
       "<div>\n",
       "<style scoped>\n",
       "    .dataframe tbody tr th:only-of-type {\n",
       "        vertical-align: middle;\n",
       "    }\n",
       "\n",
       "    .dataframe tbody tr th {\n",
       "        vertical-align: top;\n",
       "    }\n",
       "\n",
       "    .dataframe thead th {\n",
       "        text-align: right;\n",
       "    }\n",
       "</style>\n",
       "<table border=\"1\" class=\"dataframe\">\n",
       "  <thead>\n",
       "    <tr style=\"text-align: right;\">\n",
       "      <th></th>\n",
       "      <th>Vd</th>\n",
       "      <th>Id</th>\n",
       "    </tr>\n",
       "  </thead>\n",
       "  <tbody>\n",
       "    <tr>\n",
       "      <th>0</th>\n",
       "      <td>0.000000</td>\n",
       "      <td>0.000014</td>\n",
       "    </tr>\n",
       "    <tr>\n",
       "      <th>1</th>\n",
       "      <td>0.020202</td>\n",
       "      <td>0.000065</td>\n",
       "    </tr>\n",
       "    <tr>\n",
       "      <th>2</th>\n",
       "      <td>0.040404</td>\n",
       "      <td>0.000152</td>\n",
       "    </tr>\n",
       "    <tr>\n",
       "      <th>3</th>\n",
       "      <td>0.060606</td>\n",
       "      <td>0.000023</td>\n",
       "    </tr>\n",
       "    <tr>\n",
       "      <th>4</th>\n",
       "      <td>0.080808</td>\n",
       "      <td>0.000023</td>\n",
       "    </tr>\n",
       "  </tbody>\n",
       "</table>\n",
       "</div>"
      ],
      "text/plain": [
       "         Vd        Id\n",
       "0  0.000000  0.000014\n",
       "1  0.020202  0.000065\n",
       "2  0.040404  0.000152\n",
       "3  0.060606  0.000023\n",
       "4  0.080808  0.000023"
      ]
     },
     "metadata": {},
     "output_type": "display_data"
    }
   ],
   "source": [
    "data = pd.read_csv('data/iv_part_b.csv')\n",
    "display(data.head())\n",
    "Id, Vd = data['Id'].values, data['Vd'].values"
   ]
  },
  {
   "cell_type": "code",
   "execution_count": 5,
   "metadata": {},
   "outputs": [
    {
     "name": "stdout",
     "output_type": "stream",
     "text": [
      "[ 33.05578766 -20.05469374]\n"
     ]
    }
   ],
   "source": [
    "# Your Code Here #\n",
    "n = len(data)\n",
    "X = np.column_stack((Vd, np.ones(n))) \n",
    "y = np.log(Id)\n",
    "################\n",
    "\n",
    "w = np.linalg.lstsq(X, y, rcond=None)[0]\n",
    "print(w)"
   ]
  },
  {
   "cell_type": "markdown",
   "metadata": {},
   "source": [
    "## Part (c)\n",
    "\n",
    "The states $d_{L}$ and $d_{R}$ represent the position of the wheels of your SIXT33N Car. The discrete model is\n",
    "\n",
    "$$ \\begin{equation}\n",
    "    \\begin{bmatrix} d_{L}(t+1) \\\\ d_{R}(t+1) \\end{bmatrix} = A \\begin{bmatrix} d_{L}(t) \\\\ d_{R}(t) \\end{bmatrix} + B \\begin{bmatrix} u_{L}(t) \\\\ u_{R}(t) \\end{bmatrix}\n",
    "  \\end{equation} $$\n",
    "\n",
    "\n",
    "The position and input data for $t = 0, \\ldots, 100$ are stored in car_data.csv. \n",
    "\n",
    "Use this data to set up a Least-Squares problem to solve for the $A$ and $B$ matrices. Make sure you understand why $u_{L}(100)$ and $u_{R}(100)$ are undefined."
   ]
  },
  {
   "cell_type": "code",
   "execution_count": 6,
   "metadata": {},
   "outputs": [
    {
     "data": {
      "text/html": [
       "<div>\n",
       "<style scoped>\n",
       "    .dataframe tbody tr th:only-of-type {\n",
       "        vertical-align: middle;\n",
       "    }\n",
       "\n",
       "    .dataframe tbody tr th {\n",
       "        vertical-align: top;\n",
       "    }\n",
       "\n",
       "    .dataframe thead th {\n",
       "        text-align: right;\n",
       "    }\n",
       "</style>\n",
       "<table border=\"1\" class=\"dataframe\">\n",
       "  <thead>\n",
       "    <tr style=\"text-align: right;\">\n",
       "      <th></th>\n",
       "      <th>t</th>\n",
       "      <th>dL</th>\n",
       "      <th>dR</th>\n",
       "      <th>uL</th>\n",
       "      <th>uR</th>\n",
       "    </tr>\n",
       "  </thead>\n",
       "  <tbody>\n",
       "    <tr>\n",
       "      <th>0</th>\n",
       "      <td>0.0</td>\n",
       "      <td>0.000000</td>\n",
       "      <td>0.000000</td>\n",
       "      <td>-0.420645</td>\n",
       "      <td>-0.342715</td>\n",
       "    </tr>\n",
       "    <tr>\n",
       "      <th>1</th>\n",
       "      <td>1.0</td>\n",
       "      <td>-1.064955</td>\n",
       "      <td>0.610208</td>\n",
       "      <td>-0.802277</td>\n",
       "      <td>-0.161286</td>\n",
       "    </tr>\n",
       "    <tr>\n",
       "      <th>2</th>\n",
       "      <td>2.0</td>\n",
       "      <td>-1.371843</td>\n",
       "      <td>0.235234</td>\n",
       "      <td>0.404051</td>\n",
       "      <td>1.886186</td>\n",
       "    </tr>\n",
       "    <tr>\n",
       "      <th>3</th>\n",
       "      <td>3.0</td>\n",
       "      <td>-0.655994</td>\n",
       "      <td>2.059619</td>\n",
       "      <td>0.174578</td>\n",
       "      <td>0.257550</td>\n",
       "    </tr>\n",
       "    <tr>\n",
       "      <th>4</th>\n",
       "      <td>4.0</td>\n",
       "      <td>-1.178434</td>\n",
       "      <td>2.026251</td>\n",
       "      <td>-0.074446</td>\n",
       "      <td>-1.918771</td>\n",
       "    </tr>\n",
       "  </tbody>\n",
       "</table>\n",
       "</div>"
      ],
      "text/plain": [
       "     t        dL        dR        uL        uR\n",
       "0  0.0  0.000000  0.000000 -0.420645 -0.342715\n",
       "1  1.0 -1.064955  0.610208 -0.802277 -0.161286\n",
       "2  2.0 -1.371843  0.235234  0.404051  1.886186\n",
       "3  3.0 -0.655994  2.059619  0.174578  0.257550\n",
       "4  4.0 -1.178434  2.026251 -0.074446 -1.918771"
      ]
     },
     "metadata": {},
     "output_type": "display_data"
    },
    {
     "data": {
      "text/html": [
       "<div>\n",
       "<style scoped>\n",
       "    .dataframe tbody tr th:only-of-type {\n",
       "        vertical-align: middle;\n",
       "    }\n",
       "\n",
       "    .dataframe tbody tr th {\n",
       "        vertical-align: top;\n",
       "    }\n",
       "\n",
       "    .dataframe thead th {\n",
       "        text-align: right;\n",
       "    }\n",
       "</style>\n",
       "<table border=\"1\" class=\"dataframe\">\n",
       "  <thead>\n",
       "    <tr style=\"text-align: right;\">\n",
       "      <th></th>\n",
       "      <th>t</th>\n",
       "      <th>dL</th>\n",
       "      <th>dR</th>\n",
       "      <th>uL</th>\n",
       "      <th>uR</th>\n",
       "    </tr>\n",
       "  </thead>\n",
       "  <tbody>\n",
       "    <tr>\n",
       "      <th>96</th>\n",
       "      <td>96.0</td>\n",
       "      <td>-4.485227</td>\n",
       "      <td>-1.295487</td>\n",
       "      <td>0.849602</td>\n",
       "      <td>0.357015</td>\n",
       "    </tr>\n",
       "    <tr>\n",
       "      <th>97</th>\n",
       "      <td>97.0</td>\n",
       "      <td>-3.748917</td>\n",
       "      <td>0.310567</td>\n",
       "      <td>-0.692910</td>\n",
       "      <td>0.899600</td>\n",
       "    </tr>\n",
       "    <tr>\n",
       "      <th>98</th>\n",
       "      <td>98.0</td>\n",
       "      <td>-3.697663</td>\n",
       "      <td>-0.834901</td>\n",
       "      <td>0.307300</td>\n",
       "      <td>0.812862</td>\n",
       "    </tr>\n",
       "    <tr>\n",
       "      <th>99</th>\n",
       "      <td>99.0</td>\n",
       "      <td>-3.065986</td>\n",
       "      <td>-1.504671</td>\n",
       "      <td>0.629629</td>\n",
       "      <td>-0.828995</td>\n",
       "    </tr>\n",
       "    <tr>\n",
       "      <th>100</th>\n",
       "      <td>100.0</td>\n",
       "      <td>-3.236166</td>\n",
       "      <td>-0.765289</td>\n",
       "      <td>NaN</td>\n",
       "      <td>NaN</td>\n",
       "    </tr>\n",
       "  </tbody>\n",
       "</table>\n",
       "</div>"
      ],
      "text/plain": [
       "         t        dL        dR        uL        uR\n",
       "96    96.0 -4.485227 -1.295487  0.849602  0.357015\n",
       "97    97.0 -3.748917  0.310567 -0.692910  0.899600\n",
       "98    98.0 -3.697663 -0.834901  0.307300  0.812862\n",
       "99    99.0 -3.065986 -1.504671  0.629629 -0.828995\n",
       "100  100.0 -3.236166 -0.765289       NaN       NaN"
      ]
     },
     "metadata": {},
     "output_type": "display_data"
    }
   ],
   "source": [
    "data = pd.read_csv('data/car_data.csv')\n",
    "display(data.head(5))\n",
    "display(data.tail(5))"
   ]
  },
  {
   "cell_type": "code",
   "execution_count": 7,
   "metadata": {},
   "outputs": [
    {
     "name": "stdout",
     "output_type": "stream",
     "text": [
      "The A matrix is \n",
      "[[ 0.68864803 -0.66622717]\n",
      " [-0.06220561  0.38645513]]\n",
      "The B matrix is \n",
      "[[1.26629358 0.11414019]\n",
      " [0.26002853 0.46617883]]\n"
     ]
    }
   ],
   "source": [
    "dists = np.array(data[['dL', 'dR']])\n",
    "inputs = np.array(data[['uL', 'uR']])\n",
    "\n",
    "# Your Code Here #\n",
    "X = dists[:-1,]\n",
    "y = dists[1:,]\n",
    "u = inputs[:-1,]\n",
    "D = np.column_stack((X, u))\n",
    "################\n",
    "\n",
    "w = np.linalg.lstsq(D, y, rcond=None)[0]\n",
    "\n",
    "A = w[:2,].T\n",
    "B = w[2:,].T\n",
    "\n",
    "print('The A matrix is \\n{}'.format(A))\n",
    "print('The B matrix is \\n{}'.format(B))"
   ]
  },
  {
   "cell_type": "markdown",
   "metadata": {},
   "source": [
    "## Part (d)\n",
    "\n",
    "Try plotting the values of $d_{L}$ and $d_{R}.$ You may find `plt.scatter` to be helpful.\n",
    "\n",
    "What do you notice when plotting? \n",
    "Is there a way for Taejin and Nick to recover the true values of $A$ and $B?$"
   ]
  },
  {
   "cell_type": "code",
   "execution_count": 8,
   "metadata": {},
   "outputs": [
    {
     "name": "stdout",
     "output_type": "stream",
     "text": [
      "(100, 2)\n"
     ]
    },
    {
     "data": {
      "image/png": "[encoded data removed]",
      "text/plain": [
       "<Figure size 432x288 with 1 Axes>"
      ]
     },
     "metadata": {
      "needs_background": "light"
     },
     "output_type": "display_data"
    }
   ],
   "source": [
    "plt.scatter(range(100), X[:,0], label='dL')\n",
    "plt.scatter(range(100), X[:,1], label='dR')\n",
    "plt.xlabel('t')\n",
    "plt.ylabel('d')\n",
    "plt.title('Plots of dL and dR over time')\n",
    "plt.legend();\n",
    "\n",
    "print(X.shape)"
   ]
  },
  {
   "cell_type": "markdown",
   "metadata": {},
   "source": [
    "Notice the single outlier point which corrupts our Least-Squares solution.\n",
    "\n",
    "We can remove the point and rerun Least-Squares to get a better sense of what the true values of $A$ and $B$ are."
   ]
  },
  {
   "cell_type": "code",
   "execution_count": 9,
   "metadata": {},
   "outputs": [
    {
     "name": "stdout",
     "output_type": "stream",
     "text": [
      "The A matrix is \n",
      "[[ 0.89634455 -0.05536831]\n",
      " [ 0.06185562  0.75174818]]\n",
      "The B matrix is \n",
      "[[ 1.08661035 -0.0187239 ]\n",
      " [ 0.15190041  0.38305129]]\n"
     ]
    },
    {
     "data": {
      "image/png": "[encoded data removed]",
      "text/plain": [
       "<Figure size 432x288 with 1 Axes>"
      ]
     },
     "metadata": {
      "needs_background": "light"
     },
     "output_type": "display_data"
    }
   ],
   "source": [
    "idx = np.argmax(X[:,0])\n",
    "\n",
    "X = np.delete(X.copy(), 25, 0)\n",
    "y = np.delete(y.copy(), 24, 0)\n",
    "u = np.delete(u.copy(), 24, 0)\n",
    "D = np.column_stack((X, u))\n",
    "\n",
    "plt.scatter(range(99), X[:,0], label='dL')\n",
    "plt.scatter(range(99), X[:,1], label='dR')\n",
    "plt.xlabel('t')\n",
    "plt.ylabel('d')\n",
    "plt.title('Plots of dL and dR over time')\n",
    "plt.legend();\n",
    "\n",
    "w = np.linalg.lstsq(D, y, rcond=None)[0]\n",
    "\n",
    "A = w[:2,].T\n",
    "B = w[2:,].T\n",
    "\n",
    "print('The A matrix is \\n{}'.format(A))\n",
    "print('The B matrix is \\n{}'.format(B))"
   ]
  },
  {
   "cell_type": "markdown",
   "metadata": {},
   "source": [
    "## Final Remarks\n",
    "\n",
    "Given the matrix-vector equation $X \\vec{w} = \\vec{y},$ the Least-Squares solution tries to find the \"best\" $\\vec{w}$ \n",
    "that minimizes\n",
    "\n",
    "$$\\vec{w} = \\mbox{argmin}_{\\vec{w}} ||{X \\vec{w} - \\vec{y}}||^{2}$$\n",
    "\n",
    "However, we've seen in this question that the squared-norm, referred to as the 'Mean Squared Error' is susceptible to outliers. If you take classes like Data 100, EE 127, or CS 189, you'll learn about techniques to detect and remove outliers along with other regression techniques that are robust to outliers."
   ]
  }
 ],
 "metadata": {
  "kernelspec": {
   "display_name": "Python 3",
   "language": "python",
   "name": "python3"
  },
  "language_info": {
   "codemirror_mode": {
    "name": "ipython",
    "version": 3
   },
   "file_extension": ".py",
   "mimetype": "text/x-python",
   "name": "python",
   "nbconvert_exporter": "python",
   "pygments_lexer": "ipython3",
   "version": "3.7.4"
  }
 },
 "nbformat": 4,
 "nbformat_minor": 4
}
